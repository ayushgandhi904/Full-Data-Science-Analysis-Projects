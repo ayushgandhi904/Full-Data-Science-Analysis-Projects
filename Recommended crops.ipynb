{
 "cells": [
  {
   "cell_type": "code",
   "execution_count": 1,
   "id": "53fefc7a",
   "metadata": {},
   "outputs": [],
   "source": [
    "#importing libraries \n",
    "import numpy as np \n",
    "import pandas as pd\n",
    "import matplotlib.pyplot as plt\n",
    "import seaborn as sns\n",
    "import warnings\n",
    "warnings.filterwarnings(\"ignore\")\n",
    "\n",
    "from sklearn.metrics import classification_report\n",
    "from sklearn import metrics\n",
    "from sklearn.model_selection import cross_val_score\n",
    "%matplotlib inline"
   ]
  },
  {
   "cell_type": "code",
   "execution_count": 2,
   "id": "45d87ff1",
   "metadata": {},
   "outputs": [],
   "source": [
    "df = pd.read_csv(\"crop_recommendation.csv\")"
   ]
  },
  {
   "cell_type": "code",
   "execution_count": 3,
   "id": "9f6f6968",
   "metadata": {},
   "outputs": [
    {
     "data": {
      "text/html": [
       "<div>\n",
       "<style scoped>\n",
       "    .dataframe tbody tr th:only-of-type {\n",
       "        vertical-align: middle;\n",
       "    }\n",
       "\n",
       "    .dataframe tbody tr th {\n",
       "        vertical-align: top;\n",
       "    }\n",
       "\n",
       "    .dataframe thead th {\n",
       "        text-align: right;\n",
       "    }\n",
       "</style>\n",
       "<table border=\"1\" class=\"dataframe\">\n",
       "  <thead>\n",
       "    <tr style=\"text-align: right;\">\n",
       "      <th></th>\n",
       "      <th>N</th>\n",
       "      <th>P</th>\n",
       "      <th>K</th>\n",
       "      <th>temperature</th>\n",
       "      <th>humidity</th>\n",
       "      <th>ph</th>\n",
       "      <th>rainfall</th>\n",
       "      <th>label</th>\n",
       "    </tr>\n",
       "  </thead>\n",
       "  <tbody>\n",
       "    <tr>\n",
       "      <th>0</th>\n",
       "      <td>90</td>\n",
       "      <td>42</td>\n",
       "      <td>43</td>\n",
       "      <td>20.879744</td>\n",
       "      <td>82.002744</td>\n",
       "      <td>6.502985</td>\n",
       "      <td>202.935536</td>\n",
       "      <td>rice</td>\n",
       "    </tr>\n",
       "    <tr>\n",
       "      <th>1</th>\n",
       "      <td>85</td>\n",
       "      <td>58</td>\n",
       "      <td>41</td>\n",
       "      <td>21.770462</td>\n",
       "      <td>80.319644</td>\n",
       "      <td>7.038096</td>\n",
       "      <td>226.655537</td>\n",
       "      <td>rice</td>\n",
       "    </tr>\n",
       "    <tr>\n",
       "      <th>2</th>\n",
       "      <td>60</td>\n",
       "      <td>55</td>\n",
       "      <td>44</td>\n",
       "      <td>23.004459</td>\n",
       "      <td>82.320763</td>\n",
       "      <td>7.840207</td>\n",
       "      <td>263.964248</td>\n",
       "      <td>rice</td>\n",
       "    </tr>\n",
       "    <tr>\n",
       "      <th>3</th>\n",
       "      <td>74</td>\n",
       "      <td>35</td>\n",
       "      <td>40</td>\n",
       "      <td>26.491096</td>\n",
       "      <td>80.158363</td>\n",
       "      <td>6.980401</td>\n",
       "      <td>242.864034</td>\n",
       "      <td>rice</td>\n",
       "    </tr>\n",
       "    <tr>\n",
       "      <th>4</th>\n",
       "      <td>78</td>\n",
       "      <td>42</td>\n",
       "      <td>42</td>\n",
       "      <td>20.130175</td>\n",
       "      <td>81.604873</td>\n",
       "      <td>7.628473</td>\n",
       "      <td>262.717340</td>\n",
       "      <td>rice</td>\n",
       "    </tr>\n",
       "  </tbody>\n",
       "</table>\n",
       "</div>"
      ],
      "text/plain": [
       "    N   P   K  temperature   humidity        ph    rainfall label\n",
       "0  90  42  43    20.879744  82.002744  6.502985  202.935536  rice\n",
       "1  85  58  41    21.770462  80.319644  7.038096  226.655537  rice\n",
       "2  60  55  44    23.004459  82.320763  7.840207  263.964248  rice\n",
       "3  74  35  40    26.491096  80.158363  6.980401  242.864034  rice\n",
       "4  78  42  42    20.130175  81.604873  7.628473  262.717340  rice"
      ]
     },
     "execution_count": 3,
     "metadata": {},
     "output_type": "execute_result"
    }
   ],
   "source": [
    "df.head()"
   ]
  },
  {
   "cell_type": "code",
   "execution_count": 4,
   "id": "2ace8562",
   "metadata": {},
   "outputs": [
    {
     "data": {
      "text/plain": [
       "(2200, 8)"
      ]
     },
     "execution_count": 4,
     "metadata": {},
     "output_type": "execute_result"
    }
   ],
   "source": [
    "df.shape"
   ]
  },
  {
   "cell_type": "code",
   "execution_count": 5,
   "id": "e31336f0",
   "metadata": {},
   "outputs": [
    {
     "data": {
      "text/plain": [
       "Index(['N', 'P', 'K', 'temperature', 'humidity', 'ph', 'rainfall', 'label'], dtype='object')"
      ]
     },
     "execution_count": 5,
     "metadata": {},
     "output_type": "execute_result"
    }
   ],
   "source": [
    "df.columns"
   ]
  },
  {
   "cell_type": "code",
   "execution_count": 6,
   "id": "cc13fdd5",
   "metadata": {},
   "outputs": [
    {
     "data": {
      "text/plain": [
       "array(['rice', 'maize', 'chickpea', 'kidneybeans', 'pigeonpeas',\n",
       "       'mothbeans', 'mungbean', 'blackgram', 'lentil', 'pomegranate',\n",
       "       'banana', 'mango', 'grapes', 'watermelon', 'muskmelon', 'apple',\n",
       "       'orange', 'papaya', 'coconut', 'cotton', 'jute', 'coffee'],\n",
       "      dtype=object)"
      ]
     },
     "execution_count": 6,
     "metadata": {},
     "output_type": "execute_result"
    }
   ],
   "source": [
    "df[\"label\"].unique()"
   ]
  },
  {
   "cell_type": "code",
   "execution_count": 7,
   "id": "a4352014",
   "metadata": {},
   "outputs": [
    {
     "data": {
      "text/plain": [
       "N                int64\n",
       "P                int64\n",
       "K                int64\n",
       "temperature    float64\n",
       "humidity       float64\n",
       "ph             float64\n",
       "rainfall       float64\n",
       "label           object\n",
       "dtype: object"
      ]
     },
     "execution_count": 7,
     "metadata": {},
     "output_type": "execute_result"
    }
   ],
   "source": [
    "df.dtypes"
   ]
  },
  {
   "cell_type": "code",
   "execution_count": 8,
   "id": "d7e6891b",
   "metadata": {},
   "outputs": [
    {
     "data": {
      "text/plain": [
       "rice           100\n",
       "maize          100\n",
       "jute           100\n",
       "cotton         100\n",
       "coconut        100\n",
       "papaya         100\n",
       "orange         100\n",
       "apple          100\n",
       "muskmelon      100\n",
       "watermelon     100\n",
       "grapes         100\n",
       "mango          100\n",
       "banana         100\n",
       "pomegranate    100\n",
       "lentil         100\n",
       "blackgram      100\n",
       "mungbean       100\n",
       "mothbeans      100\n",
       "pigeonpeas     100\n",
       "kidneybeans    100\n",
       "chickpea       100\n",
       "coffee         100\n",
       "Name: label, dtype: int64"
      ]
     },
     "execution_count": 8,
     "metadata": {},
     "output_type": "execute_result"
    }
   ],
   "source": [
    "df[\"label\"].value_counts()"
   ]
  },
  {
   "cell_type": "code",
   "execution_count": 9,
   "id": "daea2d7d",
   "metadata": {},
   "outputs": [
    {
     "data": {
      "text/plain": [
       "<AxesSubplot:>"
      ]
     },
     "execution_count": 9,
     "metadata": {},
     "output_type": "execute_result"
    },
    {
     "data": {
      "image/png": "[encoded data removed]",
      "text/plain": [
       "<Figure size 432x288 with 2 Axes>"
      ]
     },
     "metadata": {
      "needs_background": "light"
     },
     "output_type": "display_data"
    }
   ],
   "source": [
    "sns.heatmap(df.corr(), annot = True)"
   ]
  },
  {
   "cell_type": "markdown",
   "id": "75005cdc",
   "metadata": {},
   "source": [
    "### Sepearting features & target"
   ]
  },
  {
   "cell_type": "code",
   "execution_count": 10,
   "id": "9ca902a6",
   "metadata": {},
   "outputs": [],
   "source": [
    "features = df[[\"N\", \"P\", \"K\", \"temperature\", \"humidity\", \"ph\", \"rainfall\"]]\n",
    "target = df[\"label\"]"
   ]
  },
  {
   "cell_type": "code",
   "execution_count": 11,
   "id": "839adac3",
   "metadata": {},
   "outputs": [],
   "source": [
    "#creating list for accuracy to append all different model names\n",
    "\n",
    "accuracy = []\n",
    "model_name = []"
   ]
  },
  {
   "cell_type": "code",
   "execution_count": 12,
   "id": "f316d24c",
   "metadata": {},
   "outputs": [],
   "source": [
    "#splitting into train & test\n",
    "\n",
    "from sklearn.model_selection import train_test_split\n",
    "X_train, X_test, y_train, y_test = train_test_split(features, target, test_size = 0.25, random_state = 3)"
   ]
  },
  {
   "cell_type": "markdown",
   "id": "c692ca3e",
   "metadata": {},
   "source": [
    "## Trying out different Machine Learning Algorithm"
   ]
  },
  {
   "cell_type": "markdown",
   "id": "2e88dfc3",
   "metadata": {},
   "source": [
    "### 1) Decision Tree"
   ]
  },
  {
   "cell_type": "code",
   "execution_count": 13,
   "id": "e5e14a5a",
   "metadata": {},
   "outputs": [],
   "source": [
    "from sklearn.tree import DecisionTreeClassifier"
   ]
  },
  {
   "cell_type": "code",
   "execution_count": 14,
   "id": "bc69dea1",
   "metadata": {},
   "outputs": [
    {
     "name": "stdout",
     "output_type": "stream",
     "text": [
      "Accuracy of Decision Tree algorithm is 89.45454545454545\n",
      "              precision    recall  f1-score   support\n",
      "\n",
      "       apple       1.00      1.00      1.00        24\n",
      "      banana       1.00      1.00      1.00        19\n",
      "   blackgram       0.58      1.00      0.73        19\n",
      "    chickpea       1.00      0.97      0.98        32\n",
      "     coconut       0.94      1.00      0.97        30\n",
      "      coffee       1.00      0.90      0.95        29\n",
      "      cotton       1.00      1.00      1.00        23\n",
      "      grapes       1.00      1.00      1.00        27\n",
      "        jute       0.56      1.00      0.72        22\n",
      " kidneybeans       0.00      0.00      0.00        27\n",
      "      lentil       0.90      1.00      0.95        28\n",
      "       maize       1.00      0.97      0.98        29\n",
      "       mango       1.00      0.92      0.96        24\n",
      "   mothbeans       1.00      0.48      0.65        21\n",
      "    mungbean       1.00      1.00      1.00        19\n",
      "   muskmelon       1.00      1.00      1.00        29\n",
      "      orange       1.00      1.00      1.00        27\n",
      "      papaya       1.00      0.75      0.86        20\n",
      "  pigeonpeas       0.53      1.00      0.69        25\n",
      " pomegranate       1.00      1.00      1.00        22\n",
      "        rice       1.00      0.70      0.83        27\n",
      "  watermelon       1.00      1.00      1.00        27\n",
      "\n",
      "    accuracy                           0.89       550\n",
      "   macro avg       0.89      0.89      0.88       550\n",
      "weighted avg       0.89      0.89      0.88       550\n",
      "\n"
     ]
    }
   ],
   "source": [
    "DecisionTree = DecisionTreeClassifier(criterion = \"entropy\", random_state = 3, max_depth = 5)\n",
    "\n",
    "DecisionTree.fit(X_train, y_train)\n",
    "\n",
    "pred_values = DecisionTree.predict(X_test)\n",
    "x = metrics.accuracy_score(y_test, pred_values)\n",
    "accuracy.append(x)\n",
    "model_name.append(\"Decision Tree\")\n",
    "print(f\"Accuracy of Decision Tree algorithm is {x*100}\")\n",
    "print(classification_report(y_test, pred_values))\n"
   ]
  },
  {
   "cell_type": "code",
   "execution_count": 15,
   "id": "09fcf729",
   "metadata": {},
   "outputs": [
    {
     "name": "stdout",
     "output_type": "stream",
     "text": [
      "[93.63636364 91.13636364 91.81818182 86.81818182 93.63636364]\n"
     ]
    }
   ],
   "source": [
    "cv_score = cross_val_score(DecisionTree, features, target, cv =5)*100\n",
    "print(cv_score)"
   ]
  },
  {
   "cell_type": "markdown",
   "id": "b2d16c58",
   "metadata": {},
   "source": [
    "### 2) Guassian Naive Bayes"
   ]
  },
  {
   "cell_type": "code",
   "execution_count": 16,
   "id": "169e1043",
   "metadata": {},
   "outputs": [],
   "source": [
    "from sklearn.naive_bayes import GaussianNB"
   ]
  },
  {
   "cell_type": "code",
   "execution_count": 17,
   "id": "7a813bf0",
   "metadata": {},
   "outputs": [
    {
     "name": "stdout",
     "output_type": "stream",
     "text": [
      "Accuracy of Naive Byes algorithm is 99.45454545454545\n",
      "              precision    recall  f1-score   support\n",
      "\n",
      "       apple       1.00      1.00      1.00        24\n",
      "      banana       1.00      1.00      1.00        19\n",
      "   blackgram       1.00      1.00      1.00        19\n",
      "    chickpea       1.00      1.00      1.00        32\n",
      "     coconut       1.00      1.00      1.00        30\n",
      "      coffee       1.00      1.00      1.00        29\n",
      "      cotton       1.00      1.00      1.00        23\n",
      "      grapes       1.00      1.00      1.00        27\n",
      "        jute       0.88      1.00      0.94        22\n",
      " kidneybeans       1.00      1.00      1.00        27\n",
      "      lentil       1.00      1.00      1.00        28\n",
      "       maize       1.00      1.00      1.00        29\n",
      "       mango       1.00      1.00      1.00        24\n",
      "   mothbeans       1.00      1.00      1.00        21\n",
      "    mungbean       1.00      1.00      1.00        19\n",
      "   muskmelon       1.00      1.00      1.00        29\n",
      "      orange       1.00      1.00      1.00        27\n",
      "      papaya       1.00      1.00      1.00        20\n",
      "  pigeonpeas       1.00      1.00      1.00        25\n",
      " pomegranate       1.00      1.00      1.00        22\n",
      "        rice       1.00      0.89      0.94        27\n",
      "  watermelon       1.00      1.00      1.00        27\n",
      "\n",
      "    accuracy                           0.99       550\n",
      "   macro avg       0.99      0.99      0.99       550\n",
      "weighted avg       1.00      0.99      0.99       550\n",
      "\n"
     ]
    }
   ],
   "source": [
    "NaiveByes = GaussianNB()\n",
    "\n",
    "NaiveByes.fit(X_train, y_train)\n",
    "\n",
    "pred_values = NaiveByes.predict(X_test)\n",
    "x = metrics.accuracy_score(y_test, pred_values)\n",
    "accuracy.append(x)\n",
    "model_name.append(\"Naive Bayes\")\n",
    "print(f\"Accuracy of Naive Byes algorithm is {x*100}\")\n",
    "\n",
    "print(classification_report(y_test, pred_values))"
   ]
  },
  {
   "cell_type": "code",
   "execution_count": 18,
   "id": "732a29b5",
   "metadata": {},
   "outputs": [
    {
     "name": "stdout",
     "output_type": "stream",
     "text": [
      "[99.77272727 99.54545455 99.54545455 99.54545455 99.09090909]\n"
     ]
    }
   ],
   "source": [
    "cv_score = cross_val_score(NaiveByes, features, target, cv = 5)*100\n",
    "print(cv_score)"
   ]
  },
  {
   "cell_type": "markdown",
   "id": "8f4bbf11",
   "metadata": {},
   "source": [
    "### 3) Support Vector Machine (SVM)"
   ]
  },
  {
   "cell_type": "code",
   "execution_count": 19,
   "id": "46d45170",
   "metadata": {},
   "outputs": [],
   "source": [
    "from sklearn.svm import SVC\n",
    "from sklearn.preprocessing import MinMaxScaler"
   ]
  },
  {
   "cell_type": "code",
   "execution_count": 20,
   "id": "144b8e4f",
   "metadata": {},
   "outputs": [
    {
     "name": "stdout",
     "output_type": "stream",
     "text": [
      "SVM's Accuracy is:  0.9854545454545455\n",
      "              precision    recall  f1-score   support\n",
      "\n",
      "       apple       1.00      1.00      1.00        24\n",
      "      banana       1.00      1.00      1.00        19\n",
      "   blackgram       1.00      1.00      1.00        19\n",
      "    chickpea       1.00      1.00      1.00        32\n",
      "     coconut       1.00      1.00      1.00        30\n",
      "      coffee       1.00      1.00      1.00        29\n",
      "      cotton       0.96      1.00      0.98        23\n",
      "      grapes       1.00      1.00      1.00        27\n",
      "        jute       0.78      0.95      0.86        22\n",
      " kidneybeans       1.00      1.00      1.00        27\n",
      "      lentil       1.00      1.00      1.00        28\n",
      "       maize       1.00      0.97      0.98        29\n",
      "       mango       1.00      1.00      1.00        24\n",
      "   mothbeans       1.00      1.00      1.00        21\n",
      "    mungbean       1.00      1.00      1.00        19\n",
      "   muskmelon       1.00      1.00      1.00        29\n",
      "      orange       1.00      1.00      1.00        27\n",
      "      papaya       0.95      1.00      0.98        20\n",
      "  pigeonpeas       1.00      1.00      1.00        25\n",
      " pomegranate       1.00      1.00      1.00        22\n",
      "        rice       1.00      0.78      0.88        27\n",
      "  watermelon       1.00      1.00      1.00        27\n",
      "\n",
      "    accuracy                           0.99       550\n",
      "   macro avg       0.99      0.99      0.98       550\n",
      "weighted avg       0.99      0.99      0.99       550\n",
      "\n"
     ]
    }
   ],
   "source": [
    "norm = MinMaxScaler().fit(X_train)\n",
    "X_train_norm = norm.transform(X_train)\n",
    "# transform testing dataabs\n",
    "X_test_norm = norm.transform(X_test)\n",
    "SVM = SVC(kernel='poly', degree=3, C=1)\n",
    "SVM.fit(X_train_norm,y_train)\n",
    "pred_values = SVM.predict(X_test_norm)\n",
    "x = metrics.accuracy_score(y_test, pred_values)\n",
    "accuracy.append(x)\n",
    "model_name.append('SVM')\n",
    "print(\"SVM's Accuracy is: \", x)\n",
    "\n",
    "print(classification_report(y_test,pred_values))"
   ]
  },
  {
   "cell_type": "code",
   "execution_count": 21,
   "id": "88f06fdd",
   "metadata": {},
   "outputs": [
    {
     "name": "stdout",
     "output_type": "stream",
     "text": [
      "[97.95454545 97.5        98.86363636 98.86363636 98.18181818]\n"
     ]
    }
   ],
   "source": [
    "cv_score = cross_val_score(SVM, features, target, cv =5)*100\n",
    "print(cv_score)"
   ]
  },
  {
   "cell_type": "markdown",
   "id": "65da2165",
   "metadata": {},
   "source": [
    "#### 4) Logistic Regression"
   ]
  },
  {
   "cell_type": "code",
   "execution_count": 22,
   "id": "4cbca968",
   "metadata": {},
   "outputs": [],
   "source": [
    "from sklearn.linear_model import LogisticRegression"
   ]
  },
  {
   "cell_type": "code",
   "execution_count": 23,
   "id": "9adbb510",
   "metadata": {},
   "outputs": [
    {
     "name": "stdout",
     "output_type": "stream",
     "text": [
      "Logistic Regression accuracy is 95.0909090909091\n",
      "              precision    recall  f1-score   support\n",
      "\n",
      "       apple       1.00      1.00      1.00        24\n",
      "      banana       0.95      1.00      0.97        19\n",
      "   blackgram       0.78      0.95      0.86        19\n",
      "    chickpea       1.00      1.00      1.00        32\n",
      "     coconut       1.00      1.00      1.00        30\n",
      "      coffee       0.97      1.00      0.98        29\n",
      "      cotton       0.88      0.91      0.89        23\n",
      "      grapes       1.00      1.00      1.00        27\n",
      "        jute       0.77      0.77      0.77        22\n",
      " kidneybeans       1.00      1.00      1.00        27\n",
      "      lentil       1.00      0.96      0.98        28\n",
      "       maize       0.92      0.79      0.85        29\n",
      "       mango       0.96      1.00      0.98        24\n",
      "   mothbeans       0.89      0.76      0.82        21\n",
      "    mungbean       0.90      1.00      0.95        19\n",
      "   muskmelon       1.00      1.00      1.00        29\n",
      "      orange       1.00      1.00      1.00        27\n",
      "      papaya       0.90      0.95      0.93        20\n",
      "  pigeonpeas       1.00      0.96      0.98        25\n",
      " pomegranate       1.00      1.00      1.00        22\n",
      "        rice       0.88      0.81      0.85        27\n",
      "  watermelon       1.00      1.00      1.00        27\n",
      "\n",
      "    accuracy                           0.95       550\n",
      "   macro avg       0.95      0.95      0.95       550\n",
      "weighted avg       0.95      0.95      0.95       550\n",
      "\n"
     ]
    }
   ],
   "source": [
    "LogReg = LogisticRegression(random_state = 3)\n",
    "LogReg.fit(X_train, y_train)\n",
    "\n",
    "pred_values = LogReg.predict(X_test)\n",
    "\n",
    "x = metrics.accuracy_score(y_test, pred_values)\n",
    "accuracy.append(x)\n",
    "model_name.append(\"Logistic Regression\")\n",
    "print(f\"Logistic Regression accuracy is {x*100}\")\n",
    "\n",
    "print(classification_report(y_test, pred_values))"
   ]
  },
  {
   "cell_type": "code",
   "execution_count": 24,
   "id": "a1df91a2",
   "metadata": {},
   "outputs": [
    {
     "name": "stdout",
     "output_type": "stream",
     "text": [
      "[0.95       0.96590909 0.94772727 0.96590909 0.94318182]\n"
     ]
    }
   ],
   "source": [
    "cv_score = cross_val_score(LogReg, features, target, cv = 5)\n",
    "print(cv_score)"
   ]
  },
  {
   "cell_type": "markdown",
   "id": "6119f7d5",
   "metadata": {},
   "source": [
    "#### 5) Random Forest"
   ]
  },
  {
   "cell_type": "code",
   "execution_count": 25,
   "id": "efdc382b",
   "metadata": {},
   "outputs": [],
   "source": [
    "from sklearn.ensemble import RandomForestClassifier"
   ]
  },
  {
   "cell_type": "code",
   "execution_count": 26,
   "id": "db792799",
   "metadata": {},
   "outputs": [
    {
     "name": "stdout",
     "output_type": "stream",
     "text": [
      "Accuracy of Random Forest is 99.27272727272727\n",
      "              precision    recall  f1-score   support\n",
      "\n",
      "       apple       1.00      1.00      1.00        24\n",
      "      banana       1.00      1.00      1.00        19\n",
      "   blackgram       0.95      1.00      0.97        19\n",
      "    chickpea       1.00      1.00      1.00        32\n",
      "     coconut       1.00      1.00      1.00        30\n",
      "      coffee       1.00      1.00      1.00        29\n",
      "      cotton       1.00      1.00      1.00        23\n",
      "      grapes       1.00      1.00      1.00        27\n",
      "        jute       0.88      1.00      0.94        22\n",
      " kidneybeans       1.00      1.00      1.00        27\n",
      "      lentil       1.00      1.00      1.00        28\n",
      "       maize       1.00      1.00      1.00        29\n",
      "       mango       1.00      1.00      1.00        24\n",
      "   mothbeans       1.00      0.95      0.98        21\n",
      "    mungbean       1.00      1.00      1.00        19\n",
      "   muskmelon       1.00      1.00      1.00        29\n",
      "      orange       1.00      1.00      1.00        27\n",
      "      papaya       1.00      1.00      1.00        20\n",
      "  pigeonpeas       1.00      1.00      1.00        25\n",
      " pomegranate       1.00      1.00      1.00        22\n",
      "        rice       1.00      0.89      0.94        27\n",
      "  watermelon       1.00      1.00      1.00        27\n",
      "\n",
      "    accuracy                           0.99       550\n",
      "   macro avg       0.99      0.99      0.99       550\n",
      "weighted avg       0.99      0.99      0.99       550\n",
      "\n"
     ]
    }
   ],
   "source": [
    "RanFor = RandomForestClassifier(n_estimators = 20, random_state =3 )\n",
    "RanFor.fit(X_train, y_train)\n",
    "\n",
    "pred_values = RanFor.predict(X_test)\n",
    "\n",
    "x = metrics.accuracy_score(y_test, pred_values)\n",
    "accuracy.append(x)\n",
    "model_name.append(\"Random Forest\")\n",
    "\n",
    "print(f\"Accuracy of Random Forest is {x*100}\")\n",
    "\n",
    "print(classification_report(y_test, pred_values))"
   ]
  },
  {
   "cell_type": "code",
   "execution_count": 27,
   "id": "8eed0012",
   "metadata": {},
   "outputs": [
    {
     "name": "stdout",
     "output_type": "stream",
     "text": [
      "[99.54545455 99.31818182 99.54545455 99.54545455 99.09090909]\n"
     ]
    }
   ],
   "source": [
    "cv_score = cross_val_score(RanFor, features, target, cv = 5)*100\n",
    "print(cv_score)"
   ]
  },
  {
   "cell_type": "markdown",
   "id": "247e0768",
   "metadata": {},
   "source": [
    "## Accuracy Comparison"
   ]
  },
  {
   "cell_type": "code",
   "execution_count": 31,
   "id": "20f70609",
   "metadata": {},
   "outputs": [
    {
     "data": {
      "text/plain": [
       "<AxesSubplot:title={'center':'Accuracy comparison'}, xlabel='Accuracy ', ylabel='Model'>"
      ]
     },
     "execution_count": 31,
     "metadata": {},
     "output_type": "execute_result"
    },
    {
     "data": {
      "image/png": "[encoded data removed]",
      "text/plain": [
       "<Figure size 1000x500 with 1 Axes>"
      ]
     },
     "metadata": {
      "needs_background": "light"
     },
     "output_type": "display_data"
    }
   ],
   "source": [
    "plt.figure(figsize = [10, 5], dpi = 100)\n",
    "plt.title(\"Accuracy comparison\")\n",
    "plt.xlabel(\"Accuracy \")\n",
    "plt.ylabel(\"Model\")\n",
    "sns.barplot(x = accuracy, y = model_name, palette = \"bright\")"
   ]
  },
  {
   "cell_type": "code",
   "execution_count": 32,
   "id": "05a6d3d6",
   "metadata": {},
   "outputs": [
    {
     "name": "stdout",
     "output_type": "stream",
     "text": [
      "Decision Tree accuracy is 0.8945454545454545\n",
      "Naive Bayes accuracy is 0.9945454545454545\n",
      "SVM accuracy is 0.9854545454545455\n",
      "Logistic Regression accuracy is 0.9509090909090909\n",
      "Random Forest accuracy is 0.9927272727272727\n"
     ]
    }
   ],
   "source": [
    "accuracy_models = dict(zip(model_name, accuracy))\n",
    "for i, j in accuracy_models.items():\n",
    "    print (f\"{i} accuracy is {j}\")"
   ]
  },
  {
   "cell_type": "code",
   "execution_count": null,
   "id": "db60c46b",
   "metadata": {},
   "outputs": [],
   "source": [
    "## It can be seen Random Forest & Naive Bayes has somewhat higher accuracy compare to other "
   ]
  },
  {
   "cell_type": "markdown",
   "id": "23adf71d",
   "metadata": {},
   "source": [
    "## Making a prediction "
   ]
  },
  {
   "cell_type": "code",
   "execution_count": 33,
   "id": "1ec13091",
   "metadata": {},
   "outputs": [
    {
     "name": "stdout",
     "output_type": "stream",
     "text": [
      "['coconut']\n"
     ]
    }
   ],
   "source": [
    "d1 = np.array([[102, 14, 20, 20.14, 80, 6.1, 130]])\n",
    "pred = DecisionTree.predict(d1)\n",
    "print(pred)"
   ]
  },
  {
   "cell_type": "code",
   "execution_count": 38,
   "id": "55c2dbce",
   "metadata": {},
   "outputs": [
    {
     "name": "stdout",
     "output_type": "stream",
     "text": [
      "['cotton']\n"
     ]
    }
   ],
   "source": [
    "d2 = np.array([[102, 14, 20, 20.14, 80, 6.1, 130]])\n",
    "pred = RanFor.predict(d2)\n",
    "print(pred)"
   ]
  },
  {
   "cell_type": "code",
   "execution_count": 39,
   "id": "423b5292",
   "metadata": {},
   "outputs": [
    {
     "name": "stdout",
     "output_type": "stream",
     "text": [
      "['rice']\n"
     ]
    }
   ],
   "source": [
    "d3 = np.array([[102, 14, 20, 20.14, 80, 6.1, 130]])\n",
    "pred = SVM.predict(d3)\n",
    "print(pred)"
   ]
  },
  {
   "cell_type": "code",
   "execution_count": 40,
   "id": "c1a92d21",
   "metadata": {},
   "outputs": [
    {
     "name": "stdout",
     "output_type": "stream",
     "text": [
      "['maize']\n"
     ]
    }
   ],
   "source": [
    "d4 = np.array([[102, 14, 20, 20.14, 80, 6.1, 130]])\n",
    "pred = NaiveByes.predict(d4)\n",
    "print(pred)"
   ]
  },
  {
   "cell_type": "code",
   "execution_count": 41,
   "id": "819b9fdb",
   "metadata": {},
   "outputs": [
    {
     "name": "stdout",
     "output_type": "stream",
     "text": [
      "['coffee']\n"
     ]
    }
   ],
   "source": [
    "d5 = np.array([[102, 14, 20, 20.14, 80, 6.1, 130]])\n",
    "pred = LogReg.predict(d5)\n",
    "print(pred)"
   ]
  },
  {
   "cell_type": "code",
   "execution_count": null,
   "id": "b0ba2fce",
   "metadata": {},
   "outputs": [],
   "source": [
    "# It can be seen with choosing diffrent model, at same condition it gives different outcome."
   ]
  },
  {
   "cell_type": "code",
   "execution_count": null,
   "id": "a2012f20",
   "metadata": {},
   "outputs": [],
   "source": []
  }
 ],
 "metadata": {
  "kernelspec": {
   "display_name": "Python 3 (ipykernel)",
   "language": "python",
   "name": "python3"
  },
  "language_info": {
   "codemirror_mode": {
    "name": "ipython",
    "version": 3
   },
   "file_extension": ".py",
   "mimetype": "text/x-python",
   "name": "python",
   "nbconvert_exporter": "python",
   "pygments_lexer": "ipython3",
   "version": "3.9.6"
  }
 },
 "nbformat": 4,
 "nbformat_minor": 5
}
